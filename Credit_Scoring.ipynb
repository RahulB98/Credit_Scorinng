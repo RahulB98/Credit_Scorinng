{
  "cells": [
    {
      "cell_type": "markdown",
      "metadata": {
        "id": "tLLLopyLmOxU"
      },
      "source": [
        "### Importing libraries & functions\n",
        "\n",
        "\n",
        "\n"
      ]
    },
    {
      "cell_type": "code",
      "execution_count": 1,
      "metadata": {
        "id": "Z0zpJk7CmHiH"
      },
      "outputs": [],
      "source": [
        "import pandas as pd\n",
        "import numpy as np\n",
        "import matplotlib.pyplot as plt\n",
        "from sklearn.model_selection import train_test_split\n",
        "from sklearn.preprocessing import StandardScaler\n",
        "from sklearn.metrics import classification_report, confusion_matrix, accuracy_score\n",
        "from sklearn.linear_model import LogisticRegression"
      ]
    },
    {
      "cell_type": "markdown",
      "metadata": {
        "id": "d3KLBB_ajJPf"
      },
      "source": [
        "### Importing dataset"
      ]
    },
    {
      "cell_type": "code",
      "execution_count": 2,
      "metadata": {
        "id": "a5BrHGMEjyL5"
      },
      "outputs": [],
      "source": [
        "dataset=pd.read_csv(\"a_Dataset_CreditScoring.csv\")"
      ]
    },
    {
      "cell_type": "markdown",
      "metadata": {
        "id": "BKEq_6x1mYTL"
      },
      "source": [
        "### Data preparation"
      ]
    },
    {
      "cell_type": "code",
      "execution_count": 3,
      "metadata": {
        "colab": {
          "base_uri": "https://localhost:8080/"
        },
        "id": "9V3vK-KsjeEY",
        "outputId": "5960e914-c523-4fcb-b4e1-7e0caa7adfc2"
      },
      "outputs": [
        {
          "data": {
            "text/plain": [
              "(3000, 30)"
            ]
          },
          "execution_count": 3,
          "metadata": {},
          "output_type": "execute_result"
        }
      ],
      "source": [
        "# shows count of rows and columns\n",
        "dataset.shape"
      ]
    },
    {
      "cell_type": "code",
      "execution_count": 4,
      "metadata": {
        "colab": {
          "base_uri": "https://localhost:8080/"
        },
        "id": "kOEVc6QXmuib",
        "outputId": "902790ba-2490-4b9b-c133-e6a3c5110336"
      },
      "outputs": [
        {
          "data": {
            "text/plain": [
              "(3000, 29)"
            ]
          },
          "execution_count": 4,
          "metadata": {},
          "output_type": "execute_result"
        }
      ],
      "source": [
        "#dropping customer ID column from the dataset\n",
        "dataset=dataset.drop('ID',axis=1)\n",
        "dataset.shape"
      ]
    },
    {
      "cell_type": "code",
      "execution_count": 5,
      "metadata": {
        "colab": {
          "base_uri": "https://localhost:8080/"
        },
        "id": "BWa-g8lXpUVX",
        "outputId": "c16c24ff-68c3-4996-d88a-168ac32188ff"
      },
      "outputs": [
        {
          "data": {
            "text/plain": [
              "TARGET               0\n",
              "DerogCnt             0\n",
              "CollectCnt           0\n",
              "BanruptcyInd         0\n",
              "InqCnt06             0\n",
              "InqTimeLast        188\n",
              "InqFinanceCnt24      0\n",
              "TLTimeFirst          0\n",
              "TLTimeLast           0\n",
              "TLCnt03              0\n",
              "TLCnt12              0\n",
              "TLCnt24              0\n",
              "TLCnt                3\n",
              "TLSum               40\n",
              "TLMaxSum            40\n",
              "TLSatCnt             4\n",
              "TLDel60Cnt           0\n",
              "TLBadCnt24           0\n",
              "TL75UtilCnt         99\n",
              "TL50UtilCnt         99\n",
              "TLBalHCPct          41\n",
              "TLSatPct             4\n",
              "TLDel3060Cnt24       0\n",
              "TLDel90Cnt24         0\n",
              "TLDel60CntAll        0\n",
              "TLOpenPct            3\n",
              "TLBadDerogCnt        0\n",
              "TLDel60Cnt24         0\n",
              "TLOpen24Pct          3\n",
              "dtype: int64"
            ]
          },
          "execution_count": 5,
          "metadata": {},
          "output_type": "execute_result"
        }
      ],
      "source": [
        "# explore missing values\n",
        "dataset.isna().sum()"
      ]
    },
    {
      "cell_type": "code",
      "execution_count": 6,
      "metadata": {
        "id": "iwg__6smjkb4"
      },
      "outputs": [],
      "source": [
        "# filling missing values with mean\n",
        "dataset=dataset.fillna(dataset.mean())"
      ]
    },
    {
      "cell_type": "code",
      "execution_count": 7,
      "metadata": {
        "colab": {
          "base_uri": "https://localhost:8080/"
        },
        "id": "Js3lP_KAm5-q",
        "outputId": "829dfbd0-89b5-48f7-cccd-51ba8ab74a0a"
      },
      "outputs": [
        {
          "data": {
            "text/plain": [
              "TARGET              0\n",
              "DerogCnt            0\n",
              "CollectCnt          0\n",
              "BanruptcyInd        0\n",
              "InqCnt06            0\n",
              "InqTimeLast         0\n",
              "InqFinanceCnt24     0\n",
              "TLTimeFirst         0\n",
              "TLTimeLast          0\n",
              "TLCnt03             0\n",
              "TLCnt12             0\n",
              "TLCnt24             0\n",
              "TLCnt               0\n",
              "TLSum              40\n",
              "TLMaxSum           40\n",
              "TLSatCnt            0\n",
              "TLDel60Cnt          0\n",
              "TLBadCnt24          0\n",
              "TL75UtilCnt         0\n",
              "TL50UtilCnt         0\n",
              "TLBalHCPct         41\n",
              "TLSatPct            4\n",
              "TLDel3060Cnt24      0\n",
              "TLDel90Cnt24        0\n",
              "TLDel60CntAll       0\n",
              "TLOpenPct           3\n",
              "TLBadDerogCnt       0\n",
              "TLDel60Cnt24        0\n",
              "TLOpen24Pct         3\n",
              "dtype: int64"
            ]
          },
          "execution_count": 7,
          "metadata": {},
          "output_type": "execute_result"
        }
      ],
      "source": [
        "# explore missing values post missing value fix\n",
        "dataset.isna().sum()"
      ]
    },
    {
      "cell_type": "code",
      "execution_count": 8,
      "metadata": {
        "colab": {
          "base_uri": "https://localhost:8080/",
          "height": 226
        },
        "id": "82u-muk25Ahf",
        "outputId": "7dd26a93-672c-4ab5-d96e-2252272bc3a7"
      },
      "outputs": [],
      "source": [
        "#shows first few rows of the code\n",
        "dataset.dropna(inplace=True)"
      ]
    },
    {
      "cell_type": "code",
      "execution_count": 9,
      "metadata": {},
      "outputs": [
        {
          "name": "stderr",
          "output_type": "stream",
          "text": [
            "<ipython-input-9-f9685614b597>:1: FutureWarning: The default value of regex will change from True to False in a future version. In addition, single character regular expressions will*not* be treated as literal strings when regex=True.\n",
            "  dataset.TLSum = dataset.TLSum.str.replace(',', '').str.replace('$', '').astype(int)\n",
            "<ipython-input-9-f9685614b597>:2: FutureWarning: The default value of regex will change from True to False in a future version. In addition, single character regular expressions will*not* be treated as literal strings when regex=True.\n",
            "  dataset.TLMaxSum = dataset.TLMaxSum.str.replace(',', '').str.replace('$', '').astype(int)\n"
          ]
        }
      ],
      "source": [
        "dataset.TLSum = dataset.TLSum.str.replace(',', '').str.replace('$', '').astype(int)\n",
        "dataset.TLMaxSum = dataset.TLMaxSum.str.replace(',', '').str.replace('$', '').astype(int)\n",
        "dataset.TLBalHCPct = dataset.TLBalHCPct.str.replace('%', '').astype(int)\n",
        "dataset.TLSatPct= dataset.TLSatPct.str.replace('%', '').astype(int)\n",
        "dataset.TLOpenPct= dataset.TLOpenPct.str.replace('%', '').astype(int)\n",
        "dataset.TLOpen24Pct= dataset.TLOpen24Pct.str.replace('%', '').astype(int)"
      ]
    },
    {
      "cell_type": "code",
      "execution_count": 10,
      "metadata": {
        "id": "VAUpU1UdkcNk"
      },
      "outputs": [],
      "source": [
        "# # count of good loans (0) and bad loans (1)\n",
        "# dataset['TARGET'].value_counts()"
      ]
    },
    {
      "cell_type": "code",
      "execution_count": 11,
      "metadata": {
        "id": "1tKYSnoSofkF"
      },
      "outputs": [],
      "source": [
        "# # data summary across 0 & 1\n",
        "# dataset.groupby('TARGET').mean()"
      ]
    },
    {
      "cell_type": "markdown",
      "metadata": {
        "id": "3Ib6drIfoGym"
      },
      "source": [
        "### Train Test Split"
      ]
    },
    {
      "cell_type": "code",
      "execution_count": 12,
      "metadata": {
        "id": "X9Fdr5ktkr5O"
      },
      "outputs": [],
      "source": [
        "y = dataset.iloc[:, 0].values\n",
        "X = dataset.iloc[:, 1:29].values"
      ]
    },
    {
      "cell_type": "code",
      "execution_count": 13,
      "metadata": {
        "id": "_XooWLTcoK5u"
      },
      "outputs": [],
      "source": [
        "# splitting dataset into training and test (in ratio 80:20)\n",
        "\n",
        "X_train, X_test, y_train, y_test = train_test_split(X, y, test_size=0.2, random_state=0)"
      ]
    },
    {
      "cell_type": "code",
      "execution_count": 14,
      "metadata": {
        "id": "K4tOqu1WoPNv"
      },
      "outputs": [
        {
          "data": {
            "text/plain": [
              "(2364, 28)"
            ]
          },
          "execution_count": 14,
          "metadata": {},
          "output_type": "execute_result"
        }
      ],
      "source": [
        "sc = StandardScaler()\n",
        "X_train = sc.fit_transform(X_train)\n",
        "X_test = sc.transform(X_test)\n",
        "X_train.shape"
      ]
    },
    {
      "cell_type": "code",
      "execution_count": 15,
      "metadata": {
        "colab": {
          "base_uri": "https://localhost:8080/"
        },
        "id": "IUCr4Uk3tX6N",
        "outputId": "2a508dab-4975-4cf3-9c83-2943aa6b31cf"
      },
      "outputs": [
        {
          "data": {
            "text/plain": [
              "['f2_Normalisation_CreditScoring']"
            ]
          },
          "execution_count": 15,
          "metadata": {},
          "output_type": "execute_result"
        }
      ],
      "source": [
        "# Exporting Normalisation Coefficients for later use in prediction\n",
        "import joblib\n",
        "joblib.dump(sc, 'f2_Normalisation_CreditScoring')"
      ]
    },
    {
      "cell_type": "markdown",
      "metadata": {
        "id": "07xCSknToWAs"
      },
      "source": [
        "### Risk Model building"
      ]
    },
    {
      "cell_type": "code",
      "execution_count": 16,
      "metadata": {},
      "outputs": [
        {
          "name": "stdout",
          "output_type": "stream",
          "text": [
            "Epoch 1/10\n",
            "74/74 [==============================] - 2s 4ms/step - loss: 0.4748 - accuracy: 0.8316\n",
            "Epoch 2/10\n",
            "74/74 [==============================] - 0s 3ms/step - loss: 0.4083 - accuracy: 0.8346\n",
            "Epoch 3/10\n",
            "74/74 [==============================] - 0s 4ms/step - loss: 0.3907 - accuracy: 0.8350\n",
            "Epoch 4/10\n",
            "74/74 [==============================] - 0s 3ms/step - loss: 0.3810 - accuracy: 0.8367\n",
            "Epoch 5/10\n",
            "74/74 [==============================] - 0s 3ms/step - loss: 0.3741 - accuracy: 0.8384\n",
            "Epoch 6/10\n",
            "74/74 [==============================] - 0s 3ms/step - loss: 0.3695 - accuracy: 0.8393\n",
            "Epoch 7/10\n",
            "74/74 [==============================] - 0s 4ms/step - loss: 0.3650 - accuracy: 0.8414\n",
            "Epoch 8/10\n",
            "74/74 [==============================] - 0s 5ms/step - loss: 0.3609 - accuracy: 0.8443\n",
            "Epoch 9/10\n",
            "74/74 [==============================] - 0s 4ms/step - loss: 0.3579 - accuracy: 0.8469\n",
            "Epoch 10/10\n",
            "74/74 [==============================] - 0s 3ms/step - loss: 0.3550 - accuracy: 0.8490\n"
          ]
        },
        {
          "data": {
            "text/plain": [
              "<tensorflow.python.keras.callbacks.History at 0x2cd90c75c40>"
            ]
          },
          "execution_count": 16,
          "metadata": {},
          "output_type": "execute_result"
        }
      ],
      "source": [
        "import tensorflow as tf\n",
        "from tensorflow import keras\n",
        "\n",
        "\n",
        "model = keras.Sequential([\n",
        "    keras.layers.Dense(28, input_shape=(28,), activation='relu'),\n",
        "    keras.layers.Dense(15, activation='relu'),\n",
        "    keras.layers.Dense(1, activation='sigmoid')\n",
        "])\n",
        "\n",
        "# opt = keras.optimizers.Adam(learning_rate=0.01)\n",
        "\n",
        "model.compile(optimizer='adam',\n",
        "              loss='binary_crossentropy',\n",
        "              metrics=['accuracy'])\n",
        "\n",
        "model.fit(X_train, y_train, epochs=10)"
      ]
    },
    {
      "cell_type": "code",
      "execution_count": 17,
      "metadata": {},
      "outputs": [
        {
          "name": "stdout",
          "output_type": "stream",
          "text": [
            "19/19 [==============================] - 0s 3ms/step - loss: 0.3711 - accuracy: 0.8409\n"
          ]
        },
        {
          "data": {
            "text/plain": [
              "[0.37112805247306824, 0.8409475684165955]"
            ]
          },
          "execution_count": 17,
          "metadata": {},
          "output_type": "execute_result"
        }
      ],
      "source": [
        "model.evaluate(X_test, y_test)"
      ]
    },
    {
      "cell_type": "code",
      "execution_count": 18,
      "metadata": {},
      "outputs": [
        {
          "data": {
            "text/plain": [
              "array([[0.38564947],\n",
              "       [0.07109423],\n",
              "       [0.324843  ],\n",
              "       [0.29901543],\n",
              "       [0.02502668]], dtype=float32)"
            ]
          },
          "execution_count": 18,
          "metadata": {},
          "output_type": "execute_result"
        }
      ],
      "source": [
        "yp = model.predict(X_test)\n",
        "yp[:5]"
      ]
    },
    {
      "cell_type": "code",
      "execution_count": 19,
      "metadata": {},
      "outputs": [],
      "source": [
        "y_pred = []\n",
        "for element in yp:\n",
        "    if element > 0.5:\n",
        "        y_pred.append(1)\n",
        "    else:\n",
        "        y_pred.append(0)"
      ]
    },
    {
      "cell_type": "code",
      "execution_count": 20,
      "metadata": {},
      "outputs": [
        {
          "data": {
            "text/plain": [
              "[0, 0, 0, 0, 0, 0, 0, 0, 0, 1]"
            ]
          },
          "execution_count": 20,
          "metadata": {},
          "output_type": "execute_result"
        }
      ],
      "source": [
        "y_pred[:10]"
      ]
    },
    {
      "cell_type": "code",
      "execution_count": 26,
      "metadata": {},
      "outputs": [],
      "source": [
        "### Model Evaluation"
      ]
    },
    {
      "cell_type": "code",
      "execution_count": 21,
      "metadata": {},
      "outputs": [
        {
          "name": "stdout",
          "output_type": "stream",
          "text": [
            "0.8409475465313029\n"
          ]
        }
      ],
      "source": [
        "print(accuracy_score(y_test, y_pred))"
      ]
    },
    {
      "cell_type": "code",
      "execution_count": 25,
      "metadata": {},
      "outputs": [
        {
          "name": "stdout",
          "output_type": "stream",
          "text": [
            "              precision    recall  f1-score   support\n",
            "\n",
            "           0       0.85      0.98      0.91       492\n",
            "           1       0.60      0.15      0.24        99\n",
            "\n",
            "    accuracy                           0.84       591\n",
            "   macro avg       0.73      0.57      0.58       591\n",
            "weighted avg       0.81      0.84      0.80       591\n",
            "\n"
          ]
        }
      ],
      "source": [
        "from sklearn.metrics import confusion_matrix , classification_report\n",
        "\n",
        "print(classification_report(y_test,y_pred))"
      ]
    },
    {
      "cell_type": "code",
      "execution_count": 23,
      "metadata": {},
      "outputs": [
        {
          "data": {
            "text/plain": [
              "Text(69.0, 0.5, 'Truth')"
            ]
          },
          "execution_count": 23,
          "metadata": {},
          "output_type": "execute_result"
        },
        {
          "data": {
            "image/png": "[encoded data removed]",
            "text/plain": [
              "<Figure size 720x504 with 2 Axes>"
            ]
          },
          "metadata": {
            "needs_background": "light"
          },
          "output_type": "display_data"
        }
      ],
      "source": [
        "import seaborn as sn\n",
        "cm = tf.math.confusion_matrix(labels=y_test,predictions=y_pred)\n",
        "\n",
        "plt.figure(figsize = (10,7))\n",
        "sn.heatmap(cm, annot=True, fmt='d')\n",
        "plt.xlabel('Predicted')\n",
        "plt.ylabel('Truth')"
      ]
    }
  ],
  "metadata": {
    "colab": {
      "collapsed_sections": [],
      "name": "b_Code_CreditScoring.ipynb",
      "provenance": [],
      "toc_visible": true
    },
    "kernelspec": {
      "display_name": "Python 3",
      "name": "python3"
    },
    "language_info": {
      "codemirror_mode": {
        "name": "ipython",
        "version": 3
      },
      "file_extension": ".py",
      "mimetype": "text/x-python",
      "name": "python",
      "nbconvert_exporter": "python",
      "pygments_lexer": "ipython3",
      "version": "3.8.10"
    }
  },
  "nbformat": 4,
  "nbformat_minor": 0
}
